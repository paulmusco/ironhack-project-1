{
 "cells": [
  {
   "cell_type": "code",
   "execution_count": 113,
   "metadata": {},
   "outputs": [],
   "source": [
    "#IMPORT REQUIRED MODULES...\n",
    "import random\n",
    "import re"
   ]
  },
  {
   "cell_type": "code",
   "execution_count": 114,
   "metadata": {},
   "outputs": [],
   "source": [
    "#LIST OF COUNTRIES FOR RANDOM TO CHOOSE FROM...\n",
    "countries = ['france', 'portugal', 'japan', 'spain', 'belgium', 'netherlands', 'poland', 'austria', 'switzerland', 'italy', 'denmark', 'sweden', 'norway', 'latvia', 'slovenia']"
   ]
  },
  {
   "cell_type": "code",
   "execution_count": 115,
   "metadata": {},
   "outputs": [],
   "source": [
    "#FUNCTION FOR INTRODUCTION...\n",
    "def intro():\n",
    "    username = input(\"Hello! What is your name?  \")\n",
    "    invite = input(f'Hi {username}, would you like to try and guess the countries I have visited? (Yes/No)  ')\n",
    "    if invite == 'yes' or invite == 'Yes' or invite == 'YES':\n",
    "        print(\" Great...let's do this!\")\n",
    "        game()\n",
    "    elif invite == 'no' or invite == 'No' or invite == 'NO':\n",
    "        print(\" That's a shame...maybe another time!\")\n",
    "    else:\n",
    "        print(\" That's neither a yes or a no, please stop wasting my time!\")"
   ]
  },
  {
   "cell_type": "code",
   "execution_count": 119,
   "metadata": {},
   "outputs": [],
   "source": [
    "#FUNCTION FOR GAME...\n",
    "def game():\n",
    "    country = random.choice(countries)\n",
    "    guesses = 5\n",
    "    correct_guesses = []\n",
    "    incorrect_guesses = []\n",
    "    letter_spacing = \"_ \"*len(country)\n",
    "    print(\" \")\n",
    "    print(country)\n",
    "    print(\"Country name:\", letter_spacing)\n",
    "    print(\" \")\n",
    "    while guesses > 0:\n",
    "        letter = input(\"Which letter do you think is in the country name? (lowercase letters only)  \")\n",
    "        while not re.match(\"^[a-z]*$\", letter) or len(letter) > 1 or letter == \"\":\n",
    "            print(\"  ERROR: Your entry must be a single lowercase letter\")\n",
    "            print(\" \")\n",
    "            letter = input(\"Which letter do you think is in the country name? (lowercase letters only)  \")\n",
    "        if letter in country:\n",
    "            print(\"  CORRECT! You have\", guesses, \"lives remaining...\")\n",
    "            correct_guesses.append(letter)\n",
    "            print(\"    Correct letters guessed so far:\", ', '.join(correct_guesses))\n",
    "            print(\"    Incorrect letters guessed so far:\", ', '.join(incorrect_guesses))\n",
    "            print(\" \")\n",
    "        else:\n",
    "            guesses -= 1\n",
    "            print(\"  OOOPS! You've lost a life, you have\", guesses, \"lives remaining...\")\n",
    "            incorrect_guesses.append(letter)\n",
    "            print(\"    Correct letters guessed so far:\", ', '.join(correct_guesses))\n",
    "            print(\"    Incorrect letters guessed so far:\", ', '.join(incorrect_guesses))\n",
    "            print(\" \")\n",
    "    answer = input(\"You have used all of your 5 guesses. What country do you think it is? (lowercase letters only)  \")\n",
    "    while not re.match(\"^[a-z]*$\", answer) or answer == \"\":\n",
    "        print(\"  ERROR: Your answer must be in single lowercase letters\")\n",
    "        print(\" \")\n",
    "        answer = input(\"What country do you think it is? (lowercase letters only)  \")\n",
    "    if answer == country:\n",
    "        print(\" \")\n",
    "        print(\"CONGRATULATIONS! You have guessed correctly, what a smart cookie!\")\n",
    "        play_again()\n",
    "    else:\n",
    "        print(\" \")\n",
    "        print(\"DOH!...that's not the correct answer. Better luck next time!\")\n",
    "        play_again()"
   ]
  },
  {
   "cell_type": "code",
   "execution_count": 120,
   "metadata": {},
   "outputs": [],
   "source": [
    "#FUNCTION FOR OFFERING PLAY AGAIN...\n",
    "def play_again():\n",
    "    reinvite = input(\"Would you like to play again? (Yes/No)  \")\n",
    "    if reinvite == 'yes' or reinvite == 'Yes' or reinvite == 'YES':\n",
    "        print(\" Great...we go again!\")\n",
    "        game()\n",
    "    elif reinvite == 'no' or reinvite == 'No' or reinvite == 'NO':\n",
    "        print(\" I won't take it personally, thanks for playing!\")\n",
    "    else:\n",
    "        print(\" Say what?!!\")"
   ]
  },
  {
   "cell_type": "code",
   "execution_count": 121,
   "metadata": {},
   "outputs": [
    {
     "name": "stdout",
     "output_type": "stream",
     "text": [
      "Hello! What is your name?  \n",
      "Hi , would you like to try and guess the countries I have visited? (Yes/No)  yes\n",
      " Great...let's do this!\n",
      " \n",
      "slovenia\n",
      "Country name: _ _ _ _ _ _ _ _ \n",
      " \n",
      "Which letter do you think is in the country name? (lowercase letters only)  S\n",
      "  OOOPS! You've lost a life, you have 4 lives remaining...\n",
      "    Correct letters guessed so far: \n",
      "    Incorrect letters guessed so far: S\n",
      " \n",
      "Which letter do you think is in the country name? (lowercase letters only)  s\n",
      "  CORRECT! You have 4 lives remaining...\n",
      "    Correct letters guessed so far: s\n",
      "    Incorrect letters guessed so far: S\n",
      " \n"
     ]
    },
    {
     "name": "stderr",
     "output_type": "stream",
     "text": [
      "ERROR:root:Internal Python error in the inspect module.\n",
      "Below is the traceback from this internal error.\n",
      "\n"
     ]
    },
    {
     "name": "stdout",
     "output_type": "stream",
     "text": [
      "Traceback (most recent call last):\n",
      "  File \"C:\\Users\\paul_\\anaconda3\\envs\\matrix\\lib\\site-packages\\IPython\\core\\interactiveshell.py\", line 3417, in run_code\n",
      "    exec(code_obj, self.user_global_ns, self.user_ns)\n",
      "  File \"<ipython-input-121-3c80298bc355>\", line 2, in <module>\n",
      "    intro()\n",
      "  File \"<ipython-input-115-b63379f5f341>\", line 7, in intro\n",
      "    game()\n",
      "  File \"<ipython-input-119-ebe9abfb3744>\", line 13, in game\n",
      "    letter = input(\"Which letter do you think is in the country name? (lowercase letters only)  \")\n",
      "  File \"C:\\Users\\paul_\\anaconda3\\envs\\matrix\\lib\\site-packages\\ipykernel\\kernelbase.py\", line 863, in raw_input\n",
      "    password=False,\n",
      "  File \"C:\\Users\\paul_\\anaconda3\\envs\\matrix\\lib\\site-packages\\ipykernel\\kernelbase.py\", line 904, in _input_request\n",
      "    raise KeyboardInterrupt(\"Interrupted by user\") from None\n",
      "KeyboardInterrupt: Interrupted by user\n",
      "\n",
      "During handling of the above exception, another exception occurred:\n",
      "\n",
      "Traceback (most recent call last):\n",
      "  File \"C:\\Users\\paul_\\anaconda3\\envs\\matrix\\lib\\site-packages\\IPython\\core\\interactiveshell.py\", line 2044, in showtraceback\n",
      "    stb = value._render_traceback_()\n",
      "AttributeError: 'KeyboardInterrupt' object has no attribute '_render_traceback_'\n",
      "\n",
      "During handling of the above exception, another exception occurred:\n",
      "\n",
      "Traceback (most recent call last):\n",
      "  File \"C:\\Users\\paul_\\anaconda3\\envs\\matrix\\lib\\site-packages\\IPython\\core\\ultratb.py\", line 1169, in get_records\n",
      "    return _fixed_getinnerframes(etb, number_of_lines_of_context, tb_offset)\n",
      "  File \"C:\\Users\\paul_\\anaconda3\\envs\\matrix\\lib\\site-packages\\IPython\\core\\ultratb.py\", line 316, in wrapped\n",
      "    return f(*args, **kwargs)\n",
      "  File \"C:\\Users\\paul_\\anaconda3\\envs\\matrix\\lib\\site-packages\\IPython\\core\\ultratb.py\", line 350, in _fixed_getinnerframes\n",
      "    records = fix_frame_records_filenames(inspect.getinnerframes(etb, context))\n",
      "  File \"C:\\Users\\paul_\\anaconda3\\envs\\matrix\\lib\\inspect.py\", line 1500, in getinnerframes\n",
      "    frameinfo = (tb.tb_frame,) + getframeinfo(tb, context)\n",
      "  File \"C:\\Users\\paul_\\anaconda3\\envs\\matrix\\lib\\inspect.py\", line 1458, in getframeinfo\n",
      "    filename = getsourcefile(frame) or getfile(frame)\n",
      "  File \"C:\\Users\\paul_\\anaconda3\\envs\\matrix\\lib\\inspect.py\", line 693, in getsourcefile\n",
      "    if os.path.exists(filename):\n",
      "  File \"C:\\Users\\paul_\\anaconda3\\envs\\matrix\\lib\\genericpath.py\", line 19, in exists\n",
      "    os.stat(path)\n",
      "KeyboardInterrupt\n"
     ]
    },
    {
     "name": "stderr",
     "output_type": "stream",
     "text": [
      "\n",
      "KeyboardInterrupt\n",
      "\n"
     ]
    }
   ],
   "source": [
    "#LAUNCH GAME...\n",
    "intro()"
   ]
  },
  {
   "cell_type": "code",
   "execution_count": null,
   "metadata": {},
   "outputs": [],
   "source": []
  },
  {
   "cell_type": "code",
   "execution_count": null,
   "metadata": {},
   "outputs": [],
   "source": []
  }
 ],
 "metadata": {
  "kernelspec": {
   "display_name": "Python 3",
   "language": "python",
   "name": "python3"
  },
  "language_info": {
   "codemirror_mode": {
    "name": "ipython",
    "version": 3
   },
   "file_extension": ".py",
   "mimetype": "text/x-python",
   "name": "python",
   "nbconvert_exporter": "python",
   "pygments_lexer": "ipython3",
   "version": "3.7.1"
  }
 },
 "nbformat": 4,
 "nbformat_minor": 4
}
