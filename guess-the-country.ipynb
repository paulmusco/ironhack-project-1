{
 "cells": [
  {
   "cell_type": "code",
   "execution_count": 73,
   "metadata": {},
   "outputs": [],
   "source": [
    "#IMPORT REQUIRED MODULES...\n",
    "import random\n",
    "import re"
   ]
  },
  {
   "cell_type": "code",
   "execution_count": 74,
   "metadata": {},
   "outputs": [],
   "source": [
    "#LIST OF COUNTRIES FOR RANDOM TO CHOOSE FROM...\n",
    "countries = ['france', 'portugal', 'japan', 'spain', 'belgium', 'croatia', 'netherlands', 'poland', 'austria', 'switzerland', 'italy', 'denmark', 'sweden', 'norway', 'latvia', 'slovenia']"
   ]
  },
  {
   "cell_type": "code",
   "execution_count": 75,
   "metadata": {},
   "outputs": [],
   "source": [
    "#FUNCTION FOR INTRODUCTION...\n",
    "def intro():\n",
    "    positive_responses = ['Yes', 'yes', 'YES', 'Y', 'y']\n",
    "    negative_responses = ['No', 'no', 'NO', 'N', 'n']\n",
    "    username = input(\"Hello! What is your name?  \")\n",
    "    print(f'Hi {username}!')\n",
    "    invite = input(\"Would you like to try and guess the countries I have visited? (Yes/No)  \")\n",
    "    while invite not in (positive_responses + negative_responses):\n",
    "        print(\" I'm not sure I understand...\")\n",
    "        invite = input(\"Would you like to try and guess the countries I have visited? (Yes/No)  \")\n",
    "    if invite in positive_responses:\n",
    "        print(\" Great...let's do this!\")\n",
    "        game()\n",
    "    elif invite in negative_responses:\n",
    "        print(\" That's a shame...maybe another time!\")"
   ]
  },
  {
   "cell_type": "code",
   "execution_count": 76,
   "metadata": {},
   "outputs": [],
   "source": [
    "#FUNCTION FOR GAME...\n",
    "def game():\n",
    "    country = random.choice(countries)\n",
    "    guesses = 5\n",
    "    correct_guesses = []\n",
    "    incorrect_guesses = []\n",
    "    letter_spacing = \"_ \"*len(country)\n",
    "    print(\" \")\n",
    "    print(\"Country name:\", letter_spacing)\n",
    "    print(\" \")\n",
    "    while guesses > 0:\n",
    "        letter = input(\"Which letter do you think is in the country name? (lowercase letters only)  \")\n",
    "        while not re.match(\"^[a-z]*$\", letter) or len(letter) > 1 or letter == \"\":\n",
    "            print(\"  ERROR: Your entry must be a single lowercase letter\")\n",
    "            print(\" \")\n",
    "            letter = input(\"Which letter do you think is in the country name? (lowercase letters only)  \")\n",
    "        while letter in correct_guesses or letter in incorrect_guesses:\n",
    "            print(\"  You've already guessed this letter, try a different one...\")\n",
    "            print(\" \")\n",
    "            letter = input(\"Which letter do you think is in the country name? (lowercase letters only)  \")\n",
    "        if letter in country:\n",
    "            print(\"  CORRECT! You have\", guesses, \"lives remaining...\")\n",
    "            correct_guesses.append(letter)\n",
    "            print(\"    Correct letters guessed so far:\", ', '.join(correct_guesses))\n",
    "            print(\"    Incorrect letters guessed so far:\", ', '.join(incorrect_guesses))\n",
    "            print(\" \")\n",
    "        else:\n",
    "            guesses -= 1\n",
    "            print(\"  OOOPS! You've lost a life, you have\", guesses, \"lives remaining...\")\n",
    "            incorrect_guesses.append(letter)\n",
    "            print(\"    Correct letters guessed so far:\", ', '.join(correct_guesses))\n",
    "            print(\"    Incorrect letters guessed so far:\", ', '.join(incorrect_guesses))\n",
    "            print(\" \")\n",
    "    answer = input(\"You have used all of your 5 guesses. What country do you think it is? (lowercase letters only)  \")\n",
    "    while not re.match(\"^[a-z]*$\", answer) or answer == \"\":\n",
    "        print(\"  ERROR: Your answer must be in single lowercase letters\")\n",
    "        print(\" \")\n",
    "        answer = input(\"What country do you think it is? (lowercase letters only)  \")\n",
    "    if answer == country:\n",
    "        print(\" \")\n",
    "        print(\"CONGRATULATIONS! You have guessed correctly, what a smart cookie!\")\n",
    "        play_again()\n",
    "    else:\n",
    "        print(\" \")\n",
    "        print(\"DOH!...that's not the correct answer. Better luck next time!\")\n",
    "        play_again()"
   ]
  },
  {
   "cell_type": "code",
   "execution_count": 77,
   "metadata": {},
   "outputs": [],
   "source": [
    "#FUNCTION FOR OFFERING PLAY AGAIN...\n",
    "def play_again():\n",
    "    reinvite = input(\"Would you like to play again? (Yes/No)  \")\n",
    "    if reinvite == 'yes' or reinvite == 'Yes' or reinvite == 'YES':\n",
    "        print(\" Great...we go again!\")\n",
    "        game()\n",
    "    elif reinvite == 'no' or reinvite == 'No' or reinvite == 'NO':\n",
    "        print(\" I won't take it personally, thanks for playing!\")\n",
    "    else:\n",
    "        print(\" Say what?!!\")\n",
    "        play_again()"
   ]
  },
  {
   "cell_type": "code",
   "execution_count": null,
   "metadata": {},
   "outputs": [],
   "source": [
    "#LAUNCH GAME...\n",
    "intro()"
   ]
  },
  {
   "cell_type": "code",
   "execution_count": null,
   "metadata": {},
   "outputs": [],
   "source": []
  }
 ],
 "metadata": {
  "kernelspec": {
   "display_name": "Python 3",
   "language": "python",
   "name": "python3"
  },
  "language_info": {
   "codemirror_mode": {
    "name": "ipython",
    "version": 3
   },
   "file_extension": ".py",
   "mimetype": "text/x-python",
   "name": "python",
   "nbconvert_exporter": "python",
   "pygments_lexer": "ipython3",
   "version": "3.7.1"
  }
 },
 "nbformat": 4,
 "nbformat_minor": 4
}
