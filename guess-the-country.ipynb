{
 "cells": [
  {
   "cell_type": "markdown",
   "metadata": {},
   "source": [
    "### IMPORT REQUIRED MODULES"
   ]
  },
  {
   "cell_type": "code",
   "execution_count": 1,
   "metadata": {},
   "outputs": [],
   "source": [
    "import random\n",
    "import re"
   ]
  },
  {
   "cell_type": "markdown",
   "metadata": {},
   "source": [
    "### LIST OF COUNTRIES FOR RANDOM TO CHOOSE FROM"
   ]
  },
  {
   "cell_type": "code",
   "execution_count": 2,
   "metadata": {},
   "outputs": [],
   "source": [
    "countries = ['france', 'portugal', 'japan', 'spain', 'belgium', 'croatia', 'netherlands', 'poland', \n",
    "             'austria', 'switzerland', 'italy', 'denmark', 'sweden', 'norway', 'latvia', 'slovenia']"
   ]
  },
  {
   "cell_type": "markdown",
   "metadata": {},
   "source": [
    "### FUNCTION FOR INTRODUCTION"
   ]
  },
  {
   "cell_type": "code",
   "execution_count": 75,
   "metadata": {},
   "outputs": [],
   "source": [
    "def intro():\n",
    "    positive_responses = ['Yes', 'yes', 'YES', 'Y', 'y'] #list of accepted positive responses\n",
    "    negative_responses = ['No', 'no', 'NO', 'N', 'n'] #list of accepted negative responses\n",
    "    username = input(\"Hello! What is your name?  \")\n",
    "    print(f'Hi {username}!')\n",
    "    invite = input(\"Would you like to try and guess the countries I have visited? (Yes/No)  \") \n",
    "    #check that the user response is an accepted response, if not, ask them to re-enter their reponse\n",
    "    while invite not in (positive_responses + negative_responses):\n",
    "        print(\" I'm not sure I understand...\")\n",
    "        invite = input(\"Would you like to try and guess the countries I have visited? (Yes/No)  \") \n",
    "    if invite in positive_responses:\n",
    "        print(\" Great...let's do this!\")\n",
    "        game()\n",
    "    elif invite in negative_responses:\n",
    "        print(\" That's a shame...maybe another time!\")"
   ]
  },
  {
   "cell_type": "markdown",
   "metadata": {},
   "source": [
    "### FUNCTION FOR GAME"
   ]
  },
  {
   "cell_type": "code",
   "execution_count": 76,
   "metadata": {},
   "outputs": [],
   "source": [
    "def game():\n",
    "    country = random.choice(countries) #choose a country at random from list\n",
    "    guesses = 5\n",
    "    correct_guesses = []\n",
    "    incorrect_guesses = []\n",
    "    letter_spacing = \"_ \"*len(country) #output showing user length of the country name\n",
    "    print(\" \")\n",
    "    print(\"Country name:\", letter_spacing)\n",
    "    print(\" \")\n",
    "    while guesses > 0:\n",
    "        #ask user to guess a letter\n",
    "        letter = input(\"Which letter do you think is in the country name? (lowercase letters only)  \") \n",
    "        #letter guessed is not a lowercase letter\n",
    "        while not re.match(\"^[a-z]*$\", letter) or len(letter) > 1 or letter == \"\":\n",
    "            print(\"  ERROR: Your entry must be a single lowercase letter\")\n",
    "            print(\" \")\n",
    "            letter = input(\"Which letter do you think is in the country name? (lowercase letters only)  \")\n",
    "        #user has already guessed this letter\n",
    "        while letter in correct_guesses or letter in incorrect_guesses:\n",
    "            print(\"  You've already guessed this letter, try a different one...\")\n",
    "            print(\" \")\n",
    "            letter = input(\"Which letter do you think is in the country name? (lowercase letters only)  \")\n",
    "        #user has guessed a letter correctly\n",
    "        if letter in country:\n",
    "            print(\"  CORRECT! You have\", guesses, \"lives remaining...\")\n",
    "            correct_guesses.append(letter)\n",
    "            print(\"    Correct letters guessed so far:\", ', '.join(correct_guesses))\n",
    "            print(\"    Incorrect letters guessed so far:\", ', '.join(incorrect_guesses))\n",
    "            print(\" \")\n",
    "        #user has guessed an incorrect letter\n",
    "        else: #\n",
    "            guesses -= 1\n",
    "            print(\"  OOOPS! You've lost a life, you have\", guesses, \"lives remaining...\")\n",
    "            incorrect_guesses.append(letter)\n",
    "            print(\"    Correct letters guessed so far:\", ', '.join(correct_guesses))\n",
    "            print(\"    Incorrect letters guessed so far:\", ', '.join(incorrect_guesses))\n",
    "            print(\" \")\n",
    "    #user has used all of their guesses, ask them for a final answer\n",
    "    answer = input(\"You have used all of your 5 guesses. What country do you think it is? (lowercase letters only)  \") \n",
    "    #final answer is not consisting of only lowercase letters\n",
    "    while not re.match(\"^[a-z]*$\", answer) or answer == \"\":\n",
    "        print(\"  ERROR: Your answer must be in single lowercase letters\")\n",
    "        print(\" \")\n",
    "        answer = input(\"What country do you think it is? (lowercase letters only)  \")\n",
    "    #final answer is correct\n",
    "    if answer == country:\n",
    "        print(\" \")\n",
    "        print(\"CONGRATULATIONS! You have guessed correctly, what a smart cookie!\")\n",
    "        play_again()\n",
    "    #final answer is incorrect\n",
    "    else:\n",
    "        print(\" \")\n",
    "        print(\"DOH!...that's not the correct answer. Better luck next time!\")\n",
    "        play_again()"
   ]
  },
  {
   "cell_type": "markdown",
   "metadata": {},
   "source": [
    "### FUNCTION FOR OFFERING PLAY AGAIN"
   ]
  },
  {
   "cell_type": "code",
   "execution_count": 77,
   "metadata": {},
   "outputs": [],
   "source": [
    "def play_again():\n",
    "    #ask user if they'd like to play again\n",
    "    reinvite = input(\"Would you like to play again? (Yes/No)  \")\n",
    "    #user wants to play again\n",
    "    if reinvite == 'yes' or reinvite == 'Yes' or reinvite == 'YES':\n",
    "        print(\" Great...we go again!\")\n",
    "        game()\n",
    "    #user doesn't want to play again\n",
    "    elif reinvite == 'no' or reinvite == 'No' or reinvite == 'NO':\n",
    "        print(\" I won't take it personally, thanks for playing!\")\n",
    "    #user enters an unaccepted answer\n",
    "    else:\n",
    "        print(\" Say what?!!\")\n",
    "        play_again()"
   ]
  },
  {
   "cell_type": "markdown",
   "metadata": {},
   "source": [
    "### LAUNCH GAME"
   ]
  },
  {
   "cell_type": "code",
   "execution_count": null,
   "metadata": {},
   "outputs": [],
   "source": [
    "intro()"
   ]
  },
  {
   "cell_type": "code",
   "execution_count": null,
   "metadata": {},
   "outputs": [],
   "source": []
  }
 ],
 "metadata": {
  "kernelspec": {
   "display_name": "Python 3",
   "language": "python",
   "name": "python3"
  },
  "language_info": {
   "codemirror_mode": {
    "name": "ipython",
    "version": 3
   },
   "file_extension": ".py",
   "mimetype": "text/x-python",
   "name": "python",
   "nbconvert_exporter": "python",
   "pygments_lexer": "ipython3",
   "version": "3.7.1"
  }
 },
 "nbformat": 4,
 "nbformat_minor": 4
}
