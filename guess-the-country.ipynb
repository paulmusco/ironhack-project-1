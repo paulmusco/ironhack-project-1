{
 "cells": [
  {
   "cell_type": "code",
   "execution_count": 197,
   "metadata": {},
   "outputs": [],
   "source": [
    "#Import required modules...\n",
    "import random\n",
    "import re\n",
    "import collections #used?"
   ]
  },
  {
   "cell_type": "code",
   "execution_count": 198,
   "metadata": {},
   "outputs": [
    {
     "name": "stdout",
     "output_type": "stream",
     "text": [
      "Hello! What is your name?Paul\n",
      "Hi Paul, would you like to try and guess the countries I have visited?Yes\n"
     ]
    }
   ],
   "source": [
    "#intro...\n",
    "username = input('Hello! What is your name?')\n",
    "invite = input(f'Hi {username}, would you like to try and guess the countries I have visited?')"
   ]
  },
  {
   "cell_type": "code",
   "execution_count": 199,
   "metadata": {},
   "outputs": [],
   "source": [
    "#Link from intro to game..."
   ]
  },
  {
   "cell_type": "code",
   "execution_count": 200,
   "metadata": {},
   "outputs": [],
   "source": [
    "#Creating list of countries for random to choose from...\n",
    "countries = ['france', 'portugal', 'japan', 'spain', 'belgium', 'netherlands', 'poland', 'austria', 'switzerland', 'italy', 'denmark', 'sweden', 'norway', 'latvia', 'slovenia']"
   ]
  },
  {
   "cell_type": "code",
   "execution_count": 201,
   "metadata": {},
   "outputs": [
    {
     "data": {
      "text/plain": [
       "'spain'"
      ]
     },
     "execution_count": 201,
     "metadata": {},
     "output_type": "execute_result"
    }
   ],
   "source": [
    "#Random country generator...\n",
    "country = random.choice(countries)\n",
    "country"
   ]
  },
  {
   "cell_type": "code",
   "execution_count": 202,
   "metadata": {},
   "outputs": [
    {
     "name": "stdout",
     "output_type": "stream",
     "text": [
      "Country name: _ _ _ _ _ \n"
     ]
    }
   ],
   "source": [
    "#Game itself...\n",
    "lives = 6\n",
    "letter_spacing = \"_ \"*len(country)\n",
    "print(\"Country name:\", letter_spacing)"
   ]
  },
  {
   "cell_type": "code",
   "execution_count": null,
   "metadata": {},
   "outputs": [],
   "source": [
    "#Letter input (THIS SHOULD BE A FUNCTION?)\n",
    "letter = input('Which letter do you think is in the country name?')\n",
    "while not re.match(\"^[a-z]*$\", letter1) or len(letter1) > 1# or letter == \"\"#:\n",
    "    print(\"ERROR: Your entry must be a single letter\")\n",
    "    letter = input('Which letter do you think is in the country name?')"
   ]
  },
  {
   "cell_type": "code",
   "execution_count": null,
   "metadata": {},
   "outputs": [],
   "source": [
    "#Checks if letter is in the work\n",
    "if letter in country:\n",
    "    print(\"Correct! You have\", lives, \"lives remaining...\")\n",
    "else:\n",
    "    lives -= 1\n",
    "    print(\"Too bad, you've lost a life, you have\", lives, \"lives remaining...\")\n",
    "#PRINT UPDATED WORD SPACING..."
   ]
  },
  {
   "cell_type": "markdown",
   "metadata": {},
   "source": [
    "## Word spacing working out..."
   ]
  },
  {
   "cell_type": "code",
   "execution_count": 132,
   "metadata": {},
   "outputs": [
    {
     "name": "stdout",
     "output_type": "stream",
     "text": [
      "d\n",
      "e\n",
      "n\n",
      "m\n",
      "a\n",
      "r\n",
      "k\n",
      "{}\n"
     ]
    }
   ],
   "source": [
    "#Checking letter position in word (THIS SHOULD BE A FUNCTION?)\n",
    "\n",
    "for i in country:\n",
    "    print (i)\n",
    "print(country_letter)"
   ]
  },
  {
   "cell_type": "code",
   "execution_count": 128,
   "metadata": {},
   "outputs": [
    {
     "name": "stdout",
     "output_type": "stream",
     "text": [
      "1 d\n",
      "2 e\n",
      "3 n\n",
      "4 m\n",
      "5 a\n",
      "6 r\n",
      "7 k\n"
     ]
    }
   ],
   "source": [
    "#Checking letter position in word (THIS SHOULD BE A FUNCTION?)\n",
    "\n",
    "#Tuples?\n",
    "for c, value in enumerate(country, 1):\n",
    "    print(c, value)"
   ]
  },
  {
   "cell_type": "code",
   "execution_count": null,
   "metadata": {},
   "outputs": [],
   "source": [
    "#Checking letter position in word (THIS SHOULD BE A FUNCTION?)\n",
    "\n",
    "#Dictionary? (list as second element if letter is duplicated in word? OR key is the letter position in word, value is letter itself)\n"
   ]
  }
 ],
 "metadata": {
  "kernelspec": {
   "display_name": "Python 3",
   "language": "python",
   "name": "python3"
  },
  "language_info": {
   "codemirror_mode": {
    "name": "ipython",
    "version": 3
   },
   "file_extension": ".py",
   "mimetype": "text/x-python",
   "name": "python",
   "nbconvert_exporter": "python",
   "pygments_lexer": "ipython3",
   "version": "3.7.1"
  }
 },
 "nbformat": 4,
 "nbformat_minor": 4
}
